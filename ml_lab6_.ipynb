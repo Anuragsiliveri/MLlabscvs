{
  "nbformat": 4,
  "nbformat_minor": 0,
  "metadata": {
    "colab": {
      "provenance": [],
      "authorship_tag": "ABX9TyNbDbTK9d0SOUKSit9Ei+99",
      "include_colab_link": true
    },
    "kernelspec": {
      "name": "python3",
      "display_name": "Python 3"
    },
    "language_info": {
      "name": "python"
    }
  },
  "cells": [
    {
      "cell_type": "markdown",
      "metadata": {
        "id": "view-in-github",
        "colab_type": "text"
      },
      "source": [
        "<a href=\"https://colab.research.google.com/github/Anuragsiliveri/MLlabscvs/blob/main/ml_lab6_.ipynb\" target=\"_parent\"><img src=\"https://colab.research.google.com/assets/colab-badge.svg\" alt=\"Open In Colab\"/></a>"
      ]
    },
    {
      "cell_type": "markdown",
      "source": [
        "## **reading the data**"
      ],
      "metadata": {
        "id": "hdTjeZZE7kEo"
      }
    },
    {
      "cell_type": "code",
      "source": [
        "import numpy as np\n",
        "import math\n",
        "import csv\n",
        "\n",
        "\n",
        "def read_data(filename):\n",
        "    with open(filename, 'r') as csvfile:\n",
        "        datareader = csv.reader(csvfile, delimiter=',')\n",
        "        headers = next(datareader)\n",
        "        metadata = []\n",
        "        traindata = []\n",
        "        for name in headers:\n",
        "            metadata.append(name)\n",
        "        for row in datareader:\n",
        "            traindata.append(row)\n",
        "\n",
        "    return (metadata, traindata)"
      ],
      "metadata": {
        "id": "m0fCc4uM7jcw"
      },
      "execution_count": 46,
      "outputs": []
    },
    {
      "cell_type": "markdown",
      "source": [
        "## **making the node**"
      ],
      "metadata": {
        "id": "AICB4awQ7sNv"
      }
    },
    {
      "cell_type": "code",
      "source": [
        "class Node:\n",
        "    def __init__(self, attribute):\n",
        "        self.attribute = attribute\n",
        "        self.children = []\n",
        "        self.answer = \"\"\n",
        "\n",
        "    def __str__(self):\n",
        "        return self.attribute"
      ],
      "metadata": {
        "id": "c8qcLXrs7xd-"
      },
      "execution_count": 43,
      "outputs": []
    },
    {
      "cell_type": "markdown",
      "source": [
        "## **defining suitables , entropy and gain ratio of the tree**"
      ],
      "metadata": {
        "id": "yIXiiu248Fvu"
      }
    },
    {
      "source": [
        "def subtables(data, col, delete):\n",
        "    dict = {}\n",
        "    items = np.unique(data[:, col])\n",
        "    count = np.zeros((items.shape[0], 1), dtype=np.int32)\n",
        "    # print(data.shape[0])\n",
        "    # print(\" //////   \",col)\n",
        "\n",
        "    for x in range(items.shape[0]):\n",
        "        for y in range(data.shape[0]):\n",
        "            if data[y, col] == items[x]:\n",
        "                count[x] += 1\n",
        "\n",
        "    for x in range(items.shape[0]):\n",
        "        dict[items[x]] = np.empty((int(count[x]), data.shape[1]), dtype=\"|S32\")\n",
        "        pos = 0\n",
        "        for y in range(data.shape[0]):\n",
        "            if data[y, col] == items[x]:\n",
        "                dict[items[x]][pos] = data[y]\n",
        "                pos += 1\n",
        "        if delete:\n",
        "            dict[items[x]] = np.delete(dict[items[x]], col, 1)\n",
        "\n",
        "    return items, dict\n",
        "\n",
        "def entropy(S):\n",
        "    items = np.unique(S)\n",
        "    if items.size == 1:\n",
        "        return 0\n",
        "\n",
        "    counts = np.zeros((items.shape[0], 1))\n",
        "    sums = 0\n",
        "\n",
        "    for x in range(items.shape[0]):\n",
        "        counts[x] = sum(S == items[x]) / (S.size * 1.0)\n",
        "\n",
        "    for count in counts:\n",
        "        sums += -1 * count * math.log(count, 2)\n",
        "\n",
        "    return sums\n",
        "\n",
        "def gain_ratio(data, col):\n",
        "    items, dict = subtables(data, col, delete=False)\n",
        "    total_size = data.shape[0]\n",
        "    entropies = np.zeros((items.shape[0], 1))\n",
        "    intrinsic = np.zeros((items.shape[0], 1))\n",
        "\n",
        "    for x in range(items.shape[0]):\n",
        "        ratio = dict[items[x]].shape[0] / (total_size * 1.0)\n",
        "        entropies[x] = ratio * entropy(dict[items[x]][:, -1])\n",
        "        intrinsic[x] = ratio * math.log(ratio, 2)\n",
        "\n",
        "    total_entropy = entropy(data[:, -1])\n",
        "    iv = -1 * sum(intrinsic)\n",
        "\n",
        "    for x in range(entropies.shape[0]):\n",
        "        total_entropy -= entropies[x]\n",
        "\n",
        "    return total_entropy / iv"
      ],
      "cell_type": "code",
      "metadata": {
        "id": "YCs5av0D1KC1"
      },
      "execution_count": 45,
      "outputs": []
    },
    {
      "cell_type": "markdown",
      "source": [
        "## **making the node**"
      ],
      "metadata": {
        "id": "d4WlYJsC69MQ"
      }
    },
    {
      "cell_type": "code",
      "source": [
        "def create_node(data, metadata):\n",
        "   # TODO: Handle case when information gain is zero\n",
        "    if (np.unique(data[:, -1])).shape[0] == 1:\n",
        "        node = Node(\"\")\n",
        "        node.answer = np.unique(data[:, -1])[0]\n",
        "        return node\n",
        "\n",
        "    gains = np.zeros((data.shape[1] - 1, 1))\n",
        "\n",
        "    for col in range(data.shape[1] - 1):\n",
        "        gains[col] = gain_ratio(data, col)\n",
        "\n",
        "    split = np.argmax(gains)\n",
        "    node = Node(metadata[split])\n",
        "    metadata = np.delete(metadata, split, 0)\n",
        "\n",
        "    items, dict = subtables(data, split, delete=True)\n",
        "\n",
        "    for x in range(items.shape[0]):\n",
        "        child = create_node(dict[items[x]], metadata)\n",
        "        node.children.append((items[x], child))\n",
        "\n",
        "    return node\n",
        "\n",
        "def empty(size):\n",
        "    return \" \" * size"
      ],
      "metadata": {
        "id": "af29qe7x68sI"
      },
      "execution_count": 39,
      "outputs": []
    },
    {
      "cell_type": "markdown",
      "source": [
        "## **printing the tree**"
      ],
      "metadata": {
        "id": "h2dWJ5257N8e"
      }
    },
    {
      "cell_type": "code",
      "source": [
        "def print_tree(node, level):\n",
        "    if node.answer != \"\":\n",
        "        print(empty(level), node.answer)\n",
        "        return\n",
        "\n",
        "    print(empty(level), node.attribute)\n",
        "\n",
        "    for value, n in node.children:\n",
        "        print(empty(level + 1), value)\n",
        "        print_tree(n, level + 2)"
      ],
      "metadata": {
        "id": "nOSJDUNL7NSm"
      },
      "execution_count": 40,
      "outputs": []
    },
    {
      "cell_type": "markdown",
      "source": [],
      "metadata": {
        "id": "P2yr_pQC7NCQ"
      }
    },
    {
      "cell_type": "markdown",
      "source": [
        " # **Reading and importation of data**\n"
      ],
      "metadata": {
        "id": "o0fara-56Ts4"
      }
    },
    {
      "cell_type": "code",
      "source": [
        "import numpy as np\n",
        "import math\n",
        "import csv\n",
        "import requests\n",
        "from io import StringIO\n",
        "\n",
        "def read_data_from_url(url):\n",
        "    response = requests.get(url)\n",
        "    csvfile = StringIO(response.text)\n",
        "\n",
        "    datareader = csv.reader(csvfile, delimiter=',')\n",
        "    metadata = next(datareader)\n",
        "    traindata = []\n",
        "\n",
        "    for row in datareader:\n",
        "        traindata.append(row)\n",
        "\n",
        "    return metadata, traindata\n",
        "\n",
        "url = \"https://raw.githubusercontent.com/Anuragsiliveri/MLlabscvs/main/tennisdata.csv\"\n",
        "metadata, traindata = read_data_from_url(url)\n",
        "data = np.array(traindata)"
      ],
      "metadata": {
        "id": "rm87Q1zy3ZCj"
      },
      "execution_count": 38,
      "outputs": []
    },
    {
      "cell_type": "markdown",
      "source": [
        "## **making the decision tree**"
      ],
      "metadata": {
        "id": "T2sl7p8c6pt4"
      }
    },
    {
      "cell_type": "code",
      "source": [
        "node = create_node(data, metadata)\n",
        "print_tree(node, 0)"
      ],
      "metadata": {
        "colab": {
          "base_uri": "https://localhost:8080/"
        },
        "id": "m9Q-oBVU6mtQ",
        "outputId": "a5e87446-17a2-452f-c6d1-62fab30e2c9d"
      },
      "execution_count": 48,
      "outputs": [
        {
          "output_type": "stream",
          "name": "stdout",
          "text": [
            " Outlook\n",
            "  Overcast\n",
            "   b'Yes'\n",
            "  Rainy\n",
            "   Windy\n",
            "    b'False'\n",
            "     b'Yes'\n",
            "    b'True'\n",
            "     b'No'\n",
            "  Sunny\n",
            "   Humidity\n",
            "    b'High'\n",
            "     b'No'\n",
            "    b'Normal'\n",
            "     b'Yes'\n"
          ]
        },
        {
          "output_type": "stream",
          "name": "stderr",
          "text": [
            "<ipython-input-45-7d851cb0e3ca>:14: DeprecationWarning: Conversion of an array with ndim > 0 to a scalar is deprecated, and will error in future. Ensure you extract a single element from your array before performing this operation. (Deprecated NumPy 1.25.)\n",
            "  dict[items[x]] = np.empty((int(count[x]), data.shape[1]), dtype=\"|S32\")\n",
            "<ipython-input-45-7d851cb0e3ca>:37: DeprecationWarning: Conversion of an array with ndim > 0 to a scalar is deprecated, and will error in future. Ensure you extract a single element from your array before performing this operation. (Deprecated NumPy 1.25.)\n",
            "  sums += -1 * count * math.log(count, 2)\n"
          ]
        }
      ]
    }
  ]
}